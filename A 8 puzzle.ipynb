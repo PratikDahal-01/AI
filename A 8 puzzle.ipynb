{
 "cells": [
  {
   "cell_type": "code",
   "execution_count": 5,
   "id": "dce87f5c-3dac-435e-a2c2-f98bcaf2a257",
   "metadata": {},
   "outputs": [
    {
     "name": "stdout",
     "output_type": "stream",
     "text": [
      "Enter the start state matrix \n",
      "\n"
     ]
    },
    {
     "name": "stdin",
     "output_type": "stream",
     "text": [
      " 1 2 3\n",
      " 4 5 6\n",
      " 7   8\n"
     ]
    },
    {
     "name": "stdout",
     "output_type": "stream",
     "text": [
      "Enter the goal state matrix \n",
      "\n"
     ]
    },
    {
     "name": "stdin",
     "output_type": "stream",
     "text": [
      " 1 2 3\n",
      "   5 6\n",
      " 4 7 8\n"
     ]
    },
    {
     "name": "stdout",
     "output_type": "stream",
     "text": [
      "\n",
      "\n",
      "\n",
      "\n",
      "  | \n",
      "  | \n",
      " \\'/ \n",
      "\n",
      "1 2 3 \n",
      "4 5 6 \n",
      "7   8 \n"
     ]
    },
    {
     "ename": "TypeError",
     "evalue": "cannot unpack non-iterable NoneType object",
     "output_type": "error",
     "traceback": [
      "\u001b[0;31m---------------------------------------------------------------------------\u001b[0m",
      "\u001b[0;31mTypeError\u001b[0m                                 Traceback (most recent call last)",
      "Cell \u001b[0;32mIn[5], line 113\u001b[0m\n\u001b[1;32m    106\u001b[0m             \u001b[38;5;28;01mdel\u001b[39;00m \u001b[38;5;28mself\u001b[39m\u001b[38;5;241m.\u001b[39mopen[\u001b[38;5;241m0\u001b[39m]\n\u001b[1;32m    112\u001b[0m puz \u001b[38;5;241m=\u001b[39m Puzzle(\u001b[38;5;241m3\u001b[39m)\n\u001b[0;32m--> 113\u001b[0m \u001b[43mpuz\u001b[49m\u001b[38;5;241;43m.\u001b[39;49m\u001b[43mprocess\u001b[49m\u001b[43m(\u001b[49m\u001b[43m)\u001b[49m\n",
      "Cell \u001b[0;32mIn[5], line 102\u001b[0m, in \u001b[0;36mPuzzle.process\u001b[0;34m(self)\u001b[0m\n\u001b[1;32m    100\u001b[0m \u001b[38;5;28;01mif\u001b[39;00m(\u001b[38;5;28mself\u001b[39m\u001b[38;5;241m.\u001b[39mh(cur\u001b[38;5;241m.\u001b[39mdata,goal) \u001b[38;5;241m==\u001b[39m \u001b[38;5;241m0\u001b[39m):\n\u001b[1;32m    101\u001b[0m     \u001b[38;5;28;01mbreak\u001b[39;00m\n\u001b[0;32m--> 102\u001b[0m \u001b[38;5;28;01mfor\u001b[39;00m i \u001b[38;5;129;01min\u001b[39;00m \u001b[43mcur\u001b[49m\u001b[38;5;241;43m.\u001b[39;49m\u001b[43mgenerate_child\u001b[49m\u001b[43m(\u001b[49m\u001b[43m)\u001b[49m:\n\u001b[1;32m    103\u001b[0m     i\u001b[38;5;241m.\u001b[39mfval \u001b[38;5;241m=\u001b[39m \u001b[38;5;28mself\u001b[39m\u001b[38;5;241m.\u001b[39mf(i,goal)\n\u001b[1;32m    104\u001b[0m     \u001b[38;5;28mself\u001b[39m\u001b[38;5;241m.\u001b[39mopen\u001b[38;5;241m.\u001b[39mappend(i)\n",
      "Cell \u001b[0;32mIn[5], line 9\u001b[0m, in \u001b[0;36mNode.generate_child\u001b[0;34m(self)\u001b[0m\n\u001b[1;32m      8\u001b[0m \u001b[38;5;28;01mdef\u001b[39;00m \u001b[38;5;21mgenerate_child\u001b[39m(\u001b[38;5;28mself\u001b[39m):\n\u001b[0;32m----> 9\u001b[0m     x,y \u001b[38;5;241m=\u001b[39m \u001b[38;5;28mself\u001b[39m\u001b[38;5;241m.\u001b[39mfind(\u001b[38;5;28mself\u001b[39m\u001b[38;5;241m.\u001b[39mdata,\u001b[38;5;124m'\u001b[39m\u001b[38;5;124m_\u001b[39m\u001b[38;5;124m'\u001b[39m)\n\u001b[1;32m     10\u001b[0m     val_list \u001b[38;5;241m=\u001b[39m [[x,y\u001b[38;5;241m-\u001b[39m\u001b[38;5;241m1\u001b[39m],[x,y\u001b[38;5;241m+\u001b[39m\u001b[38;5;241m1\u001b[39m],[x\u001b[38;5;241m-\u001b[39m\u001b[38;5;241m1\u001b[39m,y],[x\u001b[38;5;241m+\u001b[39m\u001b[38;5;241m1\u001b[39m,y]]\n\u001b[1;32m     11\u001b[0m     children \u001b[38;5;241m=\u001b[39m []\n",
      "\u001b[0;31mTypeError\u001b[0m: cannot unpack non-iterable NoneType object"
     ]
    }
   ],
   "source": [
    "class Node:\n",
    "    def __init__(self,data,level,fval):\n",
    "        \n",
    "        self.data = data\n",
    "        self.level = level\n",
    "        self.fval = fval\n",
    "\n",
    "    def generate_child(self):\n",
    "        x,y = self.find(self.data,'_')\n",
    "        val_list = [[x,y-1],[x,y+1],[x-1,y],[x+1,y]]\n",
    "        children = []\n",
    "        for i in val_list:\n",
    "            child = self.shuffle(self.data,x,y,i[0],i[1])\n",
    "            if child is not None:\n",
    "                child_node = Node(child,self.level+1,0)\n",
    "                children.append(child_node)\n",
    "        return children\n",
    "        \n",
    "    def shuffle(self,puz,x1,y1,x2,y2):\n",
    "        if x2 >= 0 and x2 < len(self.data) and y2 >= 0 and y2 < len(self.data):\n",
    "            temp_puz = []\n",
    "            temp_puz = self.copy(puz)\n",
    "            temp = temp_puz[x2][y2]\n",
    "            temp_puz[x2][y2] = temp_puz[x1][y1]\n",
    "            temp_puz[x1][y1] = temp\n",
    "            return temp_puz\n",
    "        else:\n",
    "            return None\n",
    "            \n",
    "\n",
    "    def copy(self,root):\n",
    "        temp = []\n",
    "        for i in root:\n",
    "            t = []\n",
    "            for j in i:\n",
    "                t.append(j)\n",
    "            temp.append(t)\n",
    "        return temp    \n",
    "            \n",
    "    def find(self,puz,x):\n",
    "        \n",
    "        for i in range(0,len(self.data)):\n",
    "            for j in range(0,len(self.data)):\n",
    "                if puz[i][j] == x:\n",
    "                    return i,j\n",
    "\n",
    "\n",
    "class Puzzle:\n",
    "    def __init__(self,size):\n",
    "        \n",
    "        self.n = size\n",
    "        self.open = []\n",
    "        self.closed = []\n",
    "\n",
    "    def accept(self):\n",
    "       \n",
    "        puz = []\n",
    "        for i in range(0,self.n):\n",
    "            temp = input().split(\" \")\n",
    "            puz.append(temp)\n",
    "        return puz\n",
    "\n",
    "    def f(self,start,goal):\n",
    "       \n",
    "        return self.h(start.data,goal)+start.level\n",
    "\n",
    "    def h(self,start,goal):\n",
    "        \n",
    "        temp = 0\n",
    "        for i in range(0,self.n):\n",
    "            for j in range(0,self.n):\n",
    "                if start[i][j] != goal[i][j] and start[i][j] != '_':\n",
    "                    temp += 1\n",
    "        return temp\n",
    "        \n",
    "\n",
    "    def process(self):\n",
    "        \n",
    "        print(\"Enter the start state matrix \\n\")\n",
    "        start = self.accept()\n",
    "        print(\"Enter the goal state matrix \\n\")        \n",
    "        goal = self.accept()\n",
    "\n",
    "        start = Node(start,0,0)\n",
    "        start.fval = self.f(start,goal)\n",
    "        \n",
    "        self.open.append(start)\n",
    "        print(\"\\n\\n\")\n",
    "        while True:\n",
    "            cur = self.open[0]\n",
    "            print(\"\")\n",
    "            print(\"  | \")\n",
    "            print(\"  | \")\n",
    "            print(\" \\\\\\'/ \\n\")\n",
    "            for i in cur.data:\n",
    "                for j in i:\n",
    "                    print(j,end=\" \")\n",
    "                print(\"\")\n",
    "            \n",
    "            if(self.h(cur.data,goal) == 0):\n",
    "                break\n",
    "            for i in cur.generate_child():\n",
    "                i.fval = self.f(i,goal)\n",
    "                self.open.append(i)\n",
    "            self.closed.append(cur)\n",
    "            del self.open[0]\n",
    "\n",
    "            \n",
    "            \n",
    "\n",
    "\n",
    "puz = Puzzle(3)\n",
    "puz.process()\n",
    "\n"
   ]
  },
  {
   "cell_type": "code",
   "execution_count": null,
   "id": "af28e41c-7861-4fac-93e6-28092fd2d64e",
   "metadata": {},
   "outputs": [],
   "source": []
  }
 ],
 "metadata": {
  "kernelspec": {
   "display_name": "Python 3 (ipykernel)",
   "language": "python",
   "name": "python3"
  },
  "language_info": {
   "codemirror_mode": {
    "name": "ipython",
    "version": 3
   },
   "file_extension": ".py",
   "mimetype": "text/x-python",
   "name": "python",
   "nbconvert_exporter": "python",
   "pygments_lexer": "ipython3",
   "version": "3.8.10"
  }
 },
 "nbformat": 4,
 "nbformat_minor": 5
}
